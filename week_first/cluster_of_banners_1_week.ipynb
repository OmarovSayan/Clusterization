{
 "cells": [
  {
   "cell_type": "markdown",
   "metadata": {},
   "source": [
    "# Кластеризация для оптимального размещения баннеров с помощью MeanShift\n",
    "В качестве входных данных выступают географические координаты точек засвета людей в соцсетях, а также координаты офисов рекламного агенства.\n",
    "Необходимо кластеризовать данные координаты, чтобы выявить центры скоплений туристов и на основе них выбрать те центры, которые наименее удалены от офисов для того, чтобы компания могла разместить баннеры на улицах с меньшими тратами.\n",
    "Поскольку баннеры имеют сравнительно небольшую площадь действия, нам нужен алгоритм, позволяющий ограничить размер кластера и не зависящий от количества кластеров. Таким алгоритмом представляется MeanShif.\n",
    "Используем его для решения задачи\n",
    "\n",
    "Задача представлена по ссылке  https://www.coursera.org/learn/unsupervised-learning/programming/XXda2/razmieshchieniie-bannierov"
   ]
  },
  {
   "cell_type": "code",
   "execution_count": 1,
   "metadata": {
    "collapsed": true
   },
   "outputs": [],
   "source": [
    "# Импортируем библиотеки\n",
    "import pandas as pd\n",
    "import numpy as np"
   ]
  },
  {
   "cell_type": "code",
   "execution_count": 2,
   "metadata": {
    "collapsed": true
   },
   "outputs": [],
   "source": [
    "## Считываем данные и берем первые 100000 записей для быстроты расчета центров кластеров\n",
    "df = pd.read_csv('chekins.csv', sep = ';')\n",
    "df = df.head(100000)"
   ]
  },
  {
   "cell_type": "code",
   "execution_count": 3,
   "metadata": {
    "collapsed": true
   },
   "outputs": [],
   "source": [
    "# Удаляем ненужные поля\n",
    "df.drop(['id', 'user_id','venue_id',  'created_at'], axis=1 , inplace = True)"
   ]
  },
  {
   "cell_type": "code",
   "execution_count": 4,
   "metadata": {},
   "outputs": [
    {
     "data": {
      "text/html": [
       "<div>\n",
       "<style>\n",
       "    .dataframe thead tr:only-child th {\n",
       "        text-align: right;\n",
       "    }\n",
       "\n",
       "    .dataframe thead th {\n",
       "        text-align: left;\n",
       "    }\n",
       "\n",
       "    .dataframe tbody tr th {\n",
       "        vertical-align: top;\n",
       "    }\n",
       "</style>\n",
       "<table border=\"1\" class=\"dataframe\">\n",
       "  <thead>\n",
       "    <tr style=\"text-align: right;\">\n",
       "      <th></th>\n",
       "      <th>latitude</th>\n",
       "      <th>longitude</th>\n",
       "    </tr>\n",
       "  </thead>\n",
       "  <tbody>\n",
       "    <tr>\n",
       "      <th>0</th>\n",
       "      <td>38.895112</td>\n",
       "      <td>-77.036366</td>\n",
       "    </tr>\n",
       "    <tr>\n",
       "      <th>1</th>\n",
       "      <td>33.800745</td>\n",
       "      <td>-84.410520</td>\n",
       "    </tr>\n",
       "    <tr>\n",
       "      <th>2</th>\n",
       "      <td>45.523452</td>\n",
       "      <td>-122.676207</td>\n",
       "    </tr>\n",
       "    <tr>\n",
       "      <th>3</th>\n",
       "      <td>40.764462</td>\n",
       "      <td>-111.904565</td>\n",
       "    </tr>\n",
       "    <tr>\n",
       "      <th>4</th>\n",
       "      <td>33.448377</td>\n",
       "      <td>-112.074037</td>\n",
       "    </tr>\n",
       "  </tbody>\n",
       "</table>\n",
       "</div>"
      ],
      "text/plain": [
       "    latitude   longitude\n",
       "0  38.895112  -77.036366\n",
       "1  33.800745  -84.410520\n",
       "2  45.523452 -122.676207\n",
       "3  40.764462 -111.904565\n",
       "4  33.448377 -112.074037"
      ]
     },
     "execution_count": 4,
     "metadata": {},
     "output_type": "execute_result"
    }
   ],
   "source": [
    "df.head()"
   ]
  },
  {
   "cell_type": "code",
   "execution_count": 5,
   "metadata": {},
   "outputs": [
    {
     "name": "stdout",
     "output_type": "stream",
     "text": [
      "number of estimated clusters : 3090\n"
     ]
    }
   ],
   "source": [
    "import numpy as np\n",
    "from sklearn.cluster import MeanShift, estimate_bandwidth\n",
    "from sklearn.datasets.samples_generator import make_blobs\n",
    "\n",
    "\n",
    "# Кластеризуем данные с помощью алгоритма MeanShift(не требует задания числа кластеров и его можно \n",
    "# ограничить в размерах(заключить в epsilon -окрестность))\n",
    "X= df.copy()\n",
    "# The following bandwidth can be automatically detected using\n",
    "bandwidth = 0.1\n",
    "\n",
    "ms = MeanShift(bandwidth=bandwidth, bin_seeding=True)\n",
    "ms.fit(X)\n",
    "labels = ms.labels_\n",
    "cluster_centers = ms.cluster_centers_\n",
    "\n",
    "labels_unique = np.unique(labels)\n",
    "n_clusters_ = len(labels_unique)\n",
    "\n",
    "print(\"number of estimated clusters : %d\" % n_clusters_)\n"
   ]
  },
  {
   "cell_type": "code",
   "execution_count": 6,
   "metadata": {
    "collapsed": true
   },
   "outputs": [],
   "source": [
    "# полученные метки кластеров\n",
    "ms.labels_\n",
    "df['label']= ms.labels_"
   ]
  },
  {
   "cell_type": "code",
   "execution_count": 7,
   "metadata": {
    "collapsed": true
   },
   "outputs": [],
   "source": [
    "#считаем номера кластеров, в которые попадают более 15 наблюдений и записываем их в массив indexes\n",
    "indexes= df.groupby(['label']).size()[df.groupby(['label']).size()>15].index.values"
   ]
  },
  {
   "cell_type": "code",
   "execution_count": 8,
   "metadata": {
    "collapsed": true
   },
   "outputs": [],
   "source": [
    "# создаем таблицу с координатами центров кластеров а также их меткой\n",
    "df2 = pd.DataFrame(ms.cluster_centers_, columns=['longitude', 'lattitude'])\n",
    "df2.reset_index(inplace=True)\n",
    "df2.rename(index=str, columns={\"index\": \"label\"}, inplace=True)"
   ]
  },
  {
   "cell_type": "code",
   "execution_count": 9,
   "metadata": {
    "collapsed": true
   },
   "outputs": [],
   "source": [
    "# выбираем координаты тех центров, которые содержат больше 15 элементов\n",
    "df3 = df2.loc[df2['label'].isin(indexes)]"
   ]
  },
  {
   "cell_type": "code",
   "execution_count": 10,
   "metadata": {},
   "outputs": [
    {
     "data": {
      "text/html": [
       "<div>\n",
       "<style>\n",
       "    .dataframe thead tr:only-child th {\n",
       "        text-align: right;\n",
       "    }\n",
       "\n",
       "    .dataframe thead th {\n",
       "        text-align: left;\n",
       "    }\n",
       "\n",
       "    .dataframe tbody tr th {\n",
       "        vertical-align: top;\n",
       "    }\n",
       "</style>\n",
       "<table border=\"1\" class=\"dataframe\">\n",
       "  <thead>\n",
       "    <tr style=\"text-align: right;\">\n",
       "      <th></th>\n",
       "      <th>label</th>\n",
       "      <th>longitude</th>\n",
       "      <th>lattitude</th>\n",
       "    </tr>\n",
       "  </thead>\n",
       "  <tbody>\n",
       "    <tr>\n",
       "      <th>0</th>\n",
       "      <td>0</td>\n",
       "      <td>40.717716</td>\n",
       "      <td>-73.991835</td>\n",
       "    </tr>\n",
       "    <tr>\n",
       "      <th>1</th>\n",
       "      <td>1</td>\n",
       "      <td>33.446380</td>\n",
       "      <td>-111.901888</td>\n",
       "    </tr>\n",
       "    <tr>\n",
       "      <th>2</th>\n",
       "      <td>2</td>\n",
       "      <td>33.448410</td>\n",
       "      <td>-112.074004</td>\n",
       "    </tr>\n",
       "    <tr>\n",
       "      <th>3</th>\n",
       "      <td>3</td>\n",
       "      <td>41.878244</td>\n",
       "      <td>-87.629843</td>\n",
       "    </tr>\n",
       "    <tr>\n",
       "      <th>4</th>\n",
       "      <td>4</td>\n",
       "      <td>37.688682</td>\n",
       "      <td>-122.409330</td>\n",
       "    </tr>\n",
       "  </tbody>\n",
       "</table>\n",
       "</div>"
      ],
      "text/plain": [
       "   label  longitude   lattitude\n",
       "0      0  40.717716  -73.991835\n",
       "1      1  33.446380 -111.901888\n",
       "2      2  33.448410 -112.074004\n",
       "3      3  41.878244  -87.629843\n",
       "4      4  37.688682 -122.409330"
      ]
     },
     "execution_count": 10,
     "metadata": {},
     "output_type": "execute_result"
    }
   ],
   "source": [
    "df3.head()"
   ]
  },
  {
   "cell_type": "code",
   "execution_count": 171,
   "metadata": {
    "collapsed": true
   },
   "outputs": [],
   "source": [
    "# Считываем данные по офисам компании(с их координатами)\n",
    "df_coord= pd.read_csv('office.txt', sep =',')"
   ]
  },
  {
   "cell_type": "code",
   "execution_count": 172,
   "metadata": {
    "collapsed": true
   },
   "outputs": [],
   "source": [
    "# Используем формулу гаверсинуса для того, чтобы оценить расстояние между двумя точками \n",
    "from math import radians, cos, sin, asin, sqrt\n",
    "def haversine(lon1, lat1, lon2, lat2):\n",
    "    \"\"\"\n",
    "    Calculate the great circle distance between two points \n",
    "    on the earth (specified in decimal degrees)\n",
    "    \"\"\"\n",
    "    # convert decimal degrees to radians \n",
    "    lon1, lat1, lon2, lat2 = map(radians, [lon1, lat1, lon2, lat2])\n",
    "    # haversine formula \n",
    "    dlon = lon2 - lon1 \n",
    "    dlat = lat2 - lat1 \n",
    "    a = sin(dlat/2)**2 + cos(lat1) * cos(lat2) * sin(dlon/2)**2\n",
    "    c = 2 * asin(sqrt(a)) \n",
    "    # Radius of earth in kilometers is 6371\n",
    "    km = 6371* c\n",
    "    return km"
   ]
  },
  {
   "cell_type": "code",
   "execution_count": 173,
   "metadata": {
    "collapsed": true
   },
   "outputs": [],
   "source": [
    "# Для каждого центра кластера(центра скоплений) расчитываем расстояние до всех офисов компании и записываем \n",
    "# результат в массив dist_list\n",
    "dist_list = np.zeros((df3.shape[0], df_coord.shape[0]))\n",
    "\n",
    "for rows1 in range(df3.shape[0]):\n",
    "    lon1 = df3.iloc[rows1].tolist()[1]\n",
    "    lat1 = df3.iloc[rows1].tolist()[2]\n",
    "    for rows2 in range(df_coord.shape[0]):\n",
    "        dist=0.0\n",
    "        lon2 = df_coord.loc[rows2][0]\n",
    "        lat2 = df_coord.loc[rows2][1]\n",
    "        dist= haversine(lon1, lat1, lon2, lat2)\n",
    "        dist_list[rows1][rows2] = dist  "
   ]
  },
  {
   "cell_type": "code",
   "execution_count": 174,
   "metadata": {
    "collapsed": true
   },
   "outputs": [],
   "source": [
    "# Каждая колонка- расстояние до офисов от центра кластера(строка- центр кластера, столбцы - номер офиса)\n",
    "distance_df= pd.DataFrame(dist_list, columns=['frst_cntr_to_shop_dist', 'scnd_cntr_to_shop_dist', 'third_cntr_to_shop_dist',\\\n",
    "                                 'fourth_cntr_to_shop_dist', 'fifth_cntr_to_shop_dist', 'sixth_cntr_to_shop_dist'])"
   ]
  },
  {
   "cell_type": "code",
   "execution_count": 175,
   "metadata": {},
   "outputs": [
    {
     "data": {
      "text/plain": [
       "frst_cntr_to_shop_dist        5.391081\n",
       "scnd_cntr_to_shop_dist        1.833894\n",
       "third_cntr_to_shop_dist       5.566228\n",
       "fourth_cntr_to_shop_dist      1.038522\n",
       "fifth_cntr_to_shop_dist     661.562854\n",
       "sixth_cntr_to_shop_dist       0.763703\n",
       "dtype: float64"
      ]
     },
     "execution_count": 175,
     "metadata": {},
     "output_type": "execute_result"
    }
   ],
   "source": [
    "# Минимальное расстояние от центра кластера до офиса наблюдается рядом с 6-м офисом\n",
    "distance_df.min()"
   ]
  },
  {
   "cell_type": "code",
   "execution_count": 179,
   "metadata": {
    "scrolled": false
   },
   "outputs": [
    {
     "data": {
      "text/plain": [
       "401    0.763703\n",
       "Name: sixth_cntr_to_shop_dist, dtype: float64"
      ]
     },
     "execution_count": 179,
     "metadata": {},
     "output_type": "execute_result"
    }
   ],
   "source": [
    "# Находим индекс, на котором наблюдаеся наименьшее расстояние до ближайшего центра\n",
    "distance_df.sixth_cntr_to_shop_dist[distance_df.sixth_cntr_to_shop_dist ==distance_df.sixth_cntr_to_shop_dist.min()]"
   ]
  },
  {
   "cell_type": "code",
   "execution_count": null,
   "metadata": {},
   "outputs": [],
   "source": [
    "# Находим координаты ближайшего центра кластера к одному из офисов,  где можно разместить баннер\n",
    "df3.iloc[401]"
   ]
  },
  {
   "cell_type": "markdown",
   "metadata": {},
   "source": [
    "## Визуализация"
   ]
  },
  {
   "cell_type": "code",
   "execution_count": 44,
   "metadata": {},
   "outputs": [
    {
     "name": "stdout",
     "output_type": "stream",
     "text": [
      "0.5.0\n"
     ]
    }
   ],
   "source": [
    "# Для визуализации координат на карте используем библиотеку folium(для её установки необходимо прописать pip install folium)\n",
    "import os\n",
    "import folium\n",
    "print(folium.__version__)"
   ]
  },
  {
   "cell_type": "code",
   "execution_count": 45,
   "metadata": {},
   "outputs": [
    {
     "data": {
      "text/html": [
       "<div>\n",
       "<style>\n",
       "    .dataframe thead tr:only-child th {\n",
       "        text-align: right;\n",
       "    }\n",
       "\n",
       "    .dataframe thead th {\n",
       "        text-align: left;\n",
       "    }\n",
       "\n",
       "    .dataframe tbody tr th {\n",
       "        vertical-align: top;\n",
       "    }\n",
       "</style>\n",
       "<table border=\"1\" class=\"dataframe\">\n",
       "  <thead>\n",
       "    <tr style=\"text-align: right;\">\n",
       "      <th></th>\n",
       "      <th>latitude</th>\n",
       "      <th>longitude</th>\n",
       "      <th>label</th>\n",
       "    </tr>\n",
       "  </thead>\n",
       "  <tbody>\n",
       "    <tr>\n",
       "      <th>0</th>\n",
       "      <td>38.895112</td>\n",
       "      <td>-77.036366</td>\n",
       "      <td>5</td>\n",
       "    </tr>\n",
       "    <tr>\n",
       "      <th>1</th>\n",
       "      <td>33.800745</td>\n",
       "      <td>-84.410520</td>\n",
       "      <td>7</td>\n",
       "    </tr>\n",
       "    <tr>\n",
       "      <th>2</th>\n",
       "      <td>45.523452</td>\n",
       "      <td>-122.676207</td>\n",
       "      <td>28</td>\n",
       "    </tr>\n",
       "    <tr>\n",
       "      <th>3</th>\n",
       "      <td>40.764462</td>\n",
       "      <td>-111.904565</td>\n",
       "      <td>63</td>\n",
       "    </tr>\n",
       "    <tr>\n",
       "      <th>4</th>\n",
       "      <td>33.448377</td>\n",
       "      <td>-112.074037</td>\n",
       "      <td>2</td>\n",
       "    </tr>\n",
       "  </tbody>\n",
       "</table>\n",
       "</div>"
      ],
      "text/plain": [
       "    latitude   longitude  label\n",
       "0  38.895112  -77.036366      5\n",
       "1  33.800745  -84.410520      7\n",
       "2  45.523452 -122.676207     28\n",
       "3  40.764462 -111.904565     63\n",
       "4  33.448377 -112.074037      2"
      ]
     },
     "execution_count": 45,
     "metadata": {},
     "output_type": "execute_result"
    }
   ],
   "source": [
    "# Из исходных данных берем те координаты людей, которые попадают в кластеры, содержащие более 15 абонентов в зоне покрытия\n",
    "new = df.loc[df['label'].isin(indexes)]\n",
    "new.head()"
   ]
  },
  {
   "cell_type": "code",
   "execution_count": 48,
   "metadata": {
    "collapsed": true
   },
   "outputs": [],
   "source": [
    "## Каждому пользователю сети присваиваем вес = количество абонентов в его кластере / общее количество пользователей сети\n",
    "new1 = new.groupby(['label']).size()/new.shape[0]\n",
    "new1 = new1.reset_index()\n",
    "new1.columns = ['label', 'weights']\n",
    "\n",
    "res_df = pd.merge(new, new1, how = 'left', on = 'label')\n",
    "res_df.drop(['label'],axis=1,  inplace=True)\n",
    "res_df = res_df.as_matrix().tolist()"
   ]
  },
  {
   "cell_type": "code",
   "execution_count": 55,
   "metadata": {
    "collapsed": true
   },
   "outputs": [],
   "source": [
    "## Визуализация весов для координат каждого абонента(так как количество координат больше, сохраним тепловую карту в html формате)\n",
    "from folium.plugins import HeatMap\n",
    "\n",
    "m = folium.Map([38., -77.], tiles='stamentoner', zoom_start=6)\n",
    "\n",
    "HeatMap(res_df).add_to(m)\n",
    "\n",
    "m.save('Heatmap.html')"
   ]
  },
  {
   "cell_type": "code",
   "execution_count": null,
   "metadata": {
    "collapsed": true
   },
   "outputs": [],
   "source": []
  }
 ],
 "metadata": {
  "kernelspec": {
   "display_name": "Python 3",
   "language": "python",
   "name": "python3"
  },
  "language_info": {
   "codemirror_mode": {
    "name": "ipython",
    "version": 3
   },
   "file_extension": ".py",
   "mimetype": "text/x-python",
   "name": "python",
   "nbconvert_exporter": "python",
   "pygments_lexer": "ipython3",
   "version": "3.5.2"
  }
 },
 "nbformat": 4,
 "nbformat_minor": 2
}
